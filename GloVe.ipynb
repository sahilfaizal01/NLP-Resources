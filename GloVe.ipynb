{
  "nbformat": 4,
  "nbformat_minor": 0,
  "metadata": {
    "colab": {
      "provenance": [],
      "authorship_tag": "ABX9TyOIYjJgm5rDvnGL6IspWsPZ",
      "include_colab_link": true
    },
    "kernelspec": {
      "name": "python3",
      "display_name": "Python 3"
    },
    "language_info": {
      "name": "python"
    }
  },
  "cells": [
    {
      "cell_type": "markdown",
      "metadata": {
        "id": "view-in-github",
        "colab_type": "text"
      },
      "source": [
        "<a href=\"https://colab.research.google.com/github/sahilfaizal01/NLP-Resources/blob/main/GloVe.ipynb\" target=\"_parent\"><img src=\"https://colab.research.google.com/assets/colab-badge.svg\" alt=\"Open In Colab\"/></a>"
      ]
    },
    {
      "cell_type": "code",
      "execution_count": 1,
      "metadata": {
        "colab": {
          "base_uri": "https://localhost:8080/"
        },
        "id": "cJuQp8n5dnRW",
        "outputId": "704a7cf5-b26b-4197-a2af-80cd86c04c9e"
      },
      "outputs": [
        {
          "output_type": "stream",
          "name": "stderr",
          "text": [
            "/usr/local/lib/python3.10/dist-packages/torchtext/vocab/__init__.py:4: UserWarning: \n",
            "/!\\ IMPORTANT WARNING ABOUT TORCHTEXT STATUS /!\\ \n",
            "Torchtext is deprecated and the last released version will be 0.18 (this one). You can silence this warning by calling the following at the beginnign of your scripts: `import torchtext; torchtext.disable_torchtext_deprecation_warning()`\n",
            "  warnings.warn(torchtext._TORCHTEXT_DEPRECATION_MSG)\n",
            "/usr/local/lib/python3.10/dist-packages/torchtext/utils.py:4: UserWarning: \n",
            "/!\\ IMPORTANT WARNING ABOUT TORCHTEXT STATUS /!\\ \n",
            "Torchtext is deprecated and the last released version will be 0.18 (this one). You can silence this warning by calling the following at the beginnign of your scripts: `import torchtext; torchtext.disable_torchtext_deprecation_warning()`\n",
            "  warnings.warn(torchtext._TORCHTEXT_DEPRECATION_MSG)\n"
          ]
        }
      ],
      "source": [
        "import torch\n",
        "import torchtext.vocab as vocab\n",
        "from torchtext.vocab import Vectors"
      ]
    },
    {
      "cell_type": "markdown",
      "source": [
        "# **Downloading pre-trained weights**"
      ],
      "metadata": {
        "id": "UZixXTrfe7zI"
      }
    },
    {
      "cell_type": "code",
      "source": [
        "class newGloVe(Vectors):\n",
        "    url = {\n",
        "        \"42B\": \"https://huggingface.co/stanfordnlp/glove/resolve/main/glove.42B.300d.zip\",\n",
        "        \"840B\": \"https://huggingface.co/stanfordnlp/glove/resolve/main/glove.840B.300d.zip\",\n",
        "        \"twitter.27B\": \"https://huggingface.co/stanfordnlp/glove/resolve/main/glove.twitter.27B.zip\",\n",
        "        \"6B\": \"https://huggingface.co/stanfordnlp/glove/resolve/main/glove.6B.zip\",\n",
        "    }\n",
        "\n",
        "    def __init__(self, name=\"840B\", dim=300, **kwargs) -> None:\n",
        "        url = self.url[name]\n",
        "        print(f\"Downloading from {url}\")\n",
        "        name = \"glove.{}.{}d.txt\".format(name, str(dim))\n",
        "        super(newGloVe, self).__init__(name, url=url, **kwargs)\n",
        "\n",
        "glove = newGloVe(name='6B', dim=100)"
      ],
      "metadata": {
        "colab": {
          "base_uri": "https://localhost:8080/"
        },
        "id": "6LYALj0Udnn0",
        "outputId": "26e21b2f-9fe5-4807-b8ac-fc8e15b7ebd4"
      },
      "execution_count": 3,
      "outputs": [
        {
          "output_type": "stream",
          "name": "stdout",
          "text": [
            "Downloading from https://huggingface.co/stanfordnlp/glove/resolve/main/glove.6B.zip\n"
          ]
        },
        {
          "output_type": "stream",
          "name": "stderr",
          "text": [
            ".vector_cache/glove.6B.zip: 862MB [00:19, 44.8MB/s]                           \n",
            "100%|█████████▉| 400000/400001 [00:27<00:00, 14697.33it/s]\n"
          ]
        }
      ]
    },
    {
      "cell_type": "code",
      "source": [
        "# %% number of words and embeddings\n",
        "glove.vectors.shape"
      ],
      "metadata": {
        "colab": {
          "base_uri": "https://localhost:8080/"
        },
        "id": "O_ouNkQldnqa",
        "outputId": "5e79c535-1d0c-4f4e-b16a-f1179b22d10a"
      },
      "execution_count": 4,
      "outputs": [
        {
          "output_type": "execute_result",
          "data": {
            "text/plain": [
              "torch.Size([400001, 100])"
            ]
          },
          "metadata": {},
          "execution_count": 4
        }
      ]
    },
    {
      "cell_type": "markdown",
      "source": [
        "# **Get Embedding Vector**"
      ],
      "metadata": {
        "id": "F5Jzsj4PewUl"
      }
    },
    {
      "cell_type": "code",
      "source": [
        "#%% get an embedding vector\n",
        "def get_embedding_vector(word):\n",
        "    word_index = glove.stoi[word]\n",
        "    emb = glove.vectors[word_index]\n",
        "    return emb\n",
        "\n",
        "get_embedding_vector('chess').shape"
      ],
      "metadata": {
        "colab": {
          "base_uri": "https://localhost:8080/"
        },
        "id": "g-JN1t3kdnwp",
        "outputId": "cbc36642-4ce3-4da9-e33b-4f2c1a45b365"
      },
      "execution_count": 5,
      "outputs": [
        {
          "output_type": "execute_result",
          "data": {
            "text/plain": [
              "torch.Size([100])"
            ]
          },
          "metadata": {},
          "execution_count": 5
        }
      ]
    },
    {
      "cell_type": "markdown",
      "source": [
        "# **Finding Closest Words based on Distance**"
      ],
      "metadata": {
        "id": "LVk8daa6e0Jb"
      }
    },
    {
      "cell_type": "code",
      "source": [
        "#%% find closest words from input word\n",
        "def get_closest_words_from_word(word, max_n=5):\n",
        "    word_emb = get_embedding_vector(word)\n",
        "    distances = [(w, torch.dist(word_emb, get_embedding_vector(w)).cpu().item()) for w in glove.itos]\n",
        "    dist_sort_filt = sorted(distances, key=lambda x: x[1])[:max_n]\n",
        "    return dist_sort_filt\n",
        "\n",
        "get_closest_words_from_word('chess')"
      ],
      "metadata": {
        "colab": {
          "base_uri": "https://localhost:8080/"
        },
        "id": "t1aP8JCMdn5i",
        "outputId": "6f9e512e-5166-4b5f-89b7-f5a97a1e88b8"
      },
      "execution_count": 6,
      "outputs": [
        {
          "output_type": "execute_result",
          "data": {
            "text/plain": [
              "[('chess', 0.0),\n",
              " ('backgammon', 4.379469394683838),\n",
              " ('grandmasters', 4.56368350982666),\n",
              " ('grandmaster', 4.613785743713379),\n",
              " ('scrabble', 4.677640438079834)]"
            ]
          },
          "metadata": {},
          "execution_count": 6
        }
      ]
    },
    {
      "cell_type": "markdown",
      "source": [
        "# **Analogy**"
      ],
      "metadata": {
        "id": "8LrEPWhqe6Vm"
      }
    },
    {
      "cell_type": "code",
      "source": [
        "#%% find closest words from embedding\n",
        "def get_closest_words_from_embedding(word_emb, max_n=5):\n",
        "    distances = [(w, torch.dist(word_emb, get_embedding_vector(w)).cpu().item()) for w in glove.itos]\n",
        "    dist_sort_filt = sorted(distances, key=lambda x: x[1])[:max_n]\n",
        "    return dist_sort_filt\n",
        "# %% find word analogies\n",
        "# e.g. King is to Queen like Man is to Woman\n",
        "def get_word_analogy(word1, word2, word3, max_n=5):\n",
        "    # logic w1= king, ...\n",
        "    # w2 - w1 + w3 --> w4\n",
        "    word1_emb = get_embedding_vector(word1)\n",
        "    word2_emb = get_embedding_vector(word2)\n",
        "    word3_emb = get_embedding_vector(word3)\n",
        "    word4_emb = word2_emb - word1_emb + word3_emb\n",
        "    analogy = get_closest_words_from_embedding(word4_emb)\n",
        "    return analogy\n",
        "\n",
        "get_word_analogy(word1='sister', word2='brother', word3='nephew')"
      ],
      "metadata": {
        "colab": {
          "base_uri": "https://localhost:8080/"
        },
        "id": "7jd3siozdoAA",
        "outputId": "95b07ac0-0e11-407c-fea3-f5a444b8d2d1"
      },
      "execution_count": 7,
      "outputs": [
        {
          "output_type": "execute_result",
          "data": {
            "text/plain": [
              "[('nephew', 3.9346508979797363),\n",
              " ('brother', 4.407793045043945),\n",
              " ('grandson', 4.478913307189941),\n",
              " ('son', 4.707828521728516),\n",
              " ('uncle', 4.8912482261657715)]"
            ]
          },
          "metadata": {},
          "execution_count": 7
        }
      ]
    },
    {
      "cell_type": "markdown",
      "source": [
        "# **GloVe Word Cluster**"
      ],
      "metadata": {
        "id": "59SCtCznfNgN"
      }
    },
    {
      "cell_type": "code",
      "source": [
        "#%% packages\n",
        "import pandas as pd\n",
        "from plotnine import ggplot, aes, geom_text, labs\n",
        "from sklearn.manifold import TSNE\n",
        "import torchtext.vocab as vocab\n",
        "import torch"
      ],
      "metadata": {
        "id": "1KRZcgJ-doHl"
      },
      "execution_count": 8,
      "outputs": []
    },
    {
      "cell_type": "code",
      "source": [
        "#%% import GloVe\n",
        "glove_dim = 100\n",
        "glove = vocab.GloVe(name='6B', dim = glove_dim)"
      ],
      "metadata": {
        "id": "ZDK1zvZBdoJ8"
      },
      "execution_count": 9,
      "outputs": []
    },
    {
      "cell_type": "code",
      "source": [
        "#%% Get closest words from word input\n",
        "def get_embedding_vector(word):\n",
        "    word_index = glove.stoi[word]\n",
        "    emb = glove.vectors[word_index]\n",
        "    return emb"
      ],
      "metadata": {
        "id": "e43_hf6LdoN5"
      },
      "execution_count": 10,
      "outputs": []
    },
    {
      "cell_type": "markdown",
      "source": [
        "# Form the dataset"
      ],
      "metadata": {
        "id": "Rq-HsPAnh9-y"
      }
    },
    {
      "cell_type": "code",
      "source": [
        "def get_closest_words_from_word(word, max_n=5):\n",
        "  word_emb = get_embedding_vector(word)\n",
        "  distances = [(w, torch.dist(word_emb, get_embedding_vector(w)).cpu().item()) for w in glove.itos]\n",
        "  dist_sort_filt = sorted(distances, key=lambda x: x[1])[:max_n]\n",
        "  return [item[0] for item in dist_sort_filt]\n",
        "\n",
        "get_closest_words_from_word(word='chess', max_n=10)"
      ],
      "metadata": {
        "colab": {
          "base_uri": "https://localhost:8080/"
        },
        "id": "AXSdcGOtdoQJ",
        "outputId": "5d7d763c-0bf2-4505-e2a1-24087fd8c5ee"
      },
      "execution_count": 11,
      "outputs": [
        {
          "output_type": "execute_result",
          "data": {
            "text/plain": [
              "['chess',\n",
              " 'backgammon',\n",
              " 'grandmasters',\n",
              " 'grandmaster',\n",
              " 'scrabble',\n",
              " 'billiards',\n",
              " 'xiangqi',\n",
              " 'kasparov',\n",
              " 'snooker',\n",
              " 'olympiad']"
            ]
          },
          "metadata": {},
          "execution_count": 11
        }
      ]
    },
    {
      "cell_type": "code",
      "source": [
        "words = []\n",
        "categories = ['numbers', 'algebra', 'music', 'science', 'technology']\n",
        "\n",
        "df_word_cloud = pd.DataFrame({\n",
        "    'category': [],\n",
        "    'word': []\n",
        "})\n",
        "\n",
        "for category in categories:\n",
        "    print(category)\n",
        "    closest_words = get_closest_words_from_word(word=category, max_n=20)\n",
        "    temp = pd.DataFrame({\n",
        "        'category': [category] * len(closest_words),\n",
        "        'word': closest_words\n",
        "    })\n",
        "    df_word_cloud = pd.concat([df_word_cloud, temp], ignore_index=True)"
      ],
      "metadata": {
        "colab": {
          "base_uri": "https://localhost:8080/"
        },
        "id": "BRcdHqQ7doT3",
        "outputId": "4381467c-3910-43d7-b4ef-a1cc783c28ef"
      },
      "execution_count": 12,
      "outputs": [
        {
          "output_type": "stream",
          "name": "stdout",
          "text": [
            "numbers\n",
            "algebra\n",
            "music\n",
            "science\n",
            "technology\n"
          ]
        }
      ]
    },
    {
      "cell_type": "code",
      "source": [
        "df_word_cloud"
      ],
      "metadata": {
        "colab": {
          "base_uri": "https://localhost:8080/",
          "height": 424
        },
        "id": "V6FRznESdoV8",
        "outputId": "77791690-3087-4608-b4d8-fdcbb5164816"
      },
      "execution_count": 13,
      "outputs": [
        {
          "output_type": "execute_result",
          "data": {
            "text/plain": [
              "      category          word\n",
              "0      numbers       numbers\n",
              "1      numbers        number\n",
              "2      numbers        though\n",
              "3      numbers      instance\n",
              "4      numbers          fact\n",
              "..         ...           ...\n",
              "95  technology  applications\n",
              "96  technology   innovations\n",
              "97  technology    developing\n",
              "98  technology      research\n",
              "99  technology    integrated\n",
              "\n",
              "[100 rows x 2 columns]"
            ],
            "text/html": [
              "\n",
              "  <div id=\"df-92965cf2-4c84-47ff-b669-1390920daa2c\" class=\"colab-df-container\">\n",
              "    <div>\n",
              "<style scoped>\n",
              "    .dataframe tbody tr th:only-of-type {\n",
              "        vertical-align: middle;\n",
              "    }\n",
              "\n",
              "    .dataframe tbody tr th {\n",
              "        vertical-align: top;\n",
              "    }\n",
              "\n",
              "    .dataframe thead th {\n",
              "        text-align: right;\n",
              "    }\n",
              "</style>\n",
              "<table border=\"1\" class=\"dataframe\">\n",
              "  <thead>\n",
              "    <tr style=\"text-align: right;\">\n",
              "      <th></th>\n",
              "      <th>category</th>\n",
              "      <th>word</th>\n",
              "    </tr>\n",
              "  </thead>\n",
              "  <tbody>\n",
              "    <tr>\n",
              "      <th>0</th>\n",
              "      <td>numbers</td>\n",
              "      <td>numbers</td>\n",
              "    </tr>\n",
              "    <tr>\n",
              "      <th>1</th>\n",
              "      <td>numbers</td>\n",
              "      <td>number</td>\n",
              "    </tr>\n",
              "    <tr>\n",
              "      <th>2</th>\n",
              "      <td>numbers</td>\n",
              "      <td>though</td>\n",
              "    </tr>\n",
              "    <tr>\n",
              "      <th>3</th>\n",
              "      <td>numbers</td>\n",
              "      <td>instance</td>\n",
              "    </tr>\n",
              "    <tr>\n",
              "      <th>4</th>\n",
              "      <td>numbers</td>\n",
              "      <td>fact</td>\n",
              "    </tr>\n",
              "    <tr>\n",
              "      <th>...</th>\n",
              "      <td>...</td>\n",
              "      <td>...</td>\n",
              "    </tr>\n",
              "    <tr>\n",
              "      <th>95</th>\n",
              "      <td>technology</td>\n",
              "      <td>applications</td>\n",
              "    </tr>\n",
              "    <tr>\n",
              "      <th>96</th>\n",
              "      <td>technology</td>\n",
              "      <td>innovations</td>\n",
              "    </tr>\n",
              "    <tr>\n",
              "      <th>97</th>\n",
              "      <td>technology</td>\n",
              "      <td>developing</td>\n",
              "    </tr>\n",
              "    <tr>\n",
              "      <th>98</th>\n",
              "      <td>technology</td>\n",
              "      <td>research</td>\n",
              "    </tr>\n",
              "    <tr>\n",
              "      <th>99</th>\n",
              "      <td>technology</td>\n",
              "      <td>integrated</td>\n",
              "    </tr>\n",
              "  </tbody>\n",
              "</table>\n",
              "<p>100 rows × 2 columns</p>\n",
              "</div>\n",
              "    <div class=\"colab-df-buttons\">\n",
              "\n",
              "  <div class=\"colab-df-container\">\n",
              "    <button class=\"colab-df-convert\" onclick=\"convertToInteractive('df-92965cf2-4c84-47ff-b669-1390920daa2c')\"\n",
              "            title=\"Convert this dataframe to an interactive table.\"\n",
              "            style=\"display:none;\">\n",
              "\n",
              "  <svg xmlns=\"http://www.w3.org/2000/svg\" height=\"24px\" viewBox=\"0 -960 960 960\">\n",
              "    <path d=\"M120-120v-720h720v720H120Zm60-500h600v-160H180v160Zm220 220h160v-160H400v160Zm0 220h160v-160H400v160ZM180-400h160v-160H180v160Zm440 0h160v-160H620v160ZM180-180h160v-160H180v160Zm440 0h160v-160H620v160Z\"/>\n",
              "  </svg>\n",
              "    </button>\n",
              "\n",
              "  <style>\n",
              "    .colab-df-container {\n",
              "      display:flex;\n",
              "      gap: 12px;\n",
              "    }\n",
              "\n",
              "    .colab-df-convert {\n",
              "      background-color: #E8F0FE;\n",
              "      border: none;\n",
              "      border-radius: 50%;\n",
              "      cursor: pointer;\n",
              "      display: none;\n",
              "      fill: #1967D2;\n",
              "      height: 32px;\n",
              "      padding: 0 0 0 0;\n",
              "      width: 32px;\n",
              "    }\n",
              "\n",
              "    .colab-df-convert:hover {\n",
              "      background-color: #E2EBFA;\n",
              "      box-shadow: 0px 1px 2px rgba(60, 64, 67, 0.3), 0px 1px 3px 1px rgba(60, 64, 67, 0.15);\n",
              "      fill: #174EA6;\n",
              "    }\n",
              "\n",
              "    .colab-df-buttons div {\n",
              "      margin-bottom: 4px;\n",
              "    }\n",
              "\n",
              "    [theme=dark] .colab-df-convert {\n",
              "      background-color: #3B4455;\n",
              "      fill: #D2E3FC;\n",
              "    }\n",
              "\n",
              "    [theme=dark] .colab-df-convert:hover {\n",
              "      background-color: #434B5C;\n",
              "      box-shadow: 0px 1px 3px 1px rgba(0, 0, 0, 0.15);\n",
              "      filter: drop-shadow(0px 1px 2px rgba(0, 0, 0, 0.3));\n",
              "      fill: #FFFFFF;\n",
              "    }\n",
              "  </style>\n",
              "\n",
              "    <script>\n",
              "      const buttonEl =\n",
              "        document.querySelector('#df-92965cf2-4c84-47ff-b669-1390920daa2c button.colab-df-convert');\n",
              "      buttonEl.style.display =\n",
              "        google.colab.kernel.accessAllowed ? 'block' : 'none';\n",
              "\n",
              "      async function convertToInteractive(key) {\n",
              "        const element = document.querySelector('#df-92965cf2-4c84-47ff-b669-1390920daa2c');\n",
              "        const dataTable =\n",
              "          await google.colab.kernel.invokeFunction('convertToInteractive',\n",
              "                                                    [key], {});\n",
              "        if (!dataTable) return;\n",
              "\n",
              "        const docLinkHtml = 'Like what you see? Visit the ' +\n",
              "          '<a target=\"_blank\" href=https://colab.research.google.com/notebooks/data_table.ipynb>data table notebook</a>'\n",
              "          + ' to learn more about interactive tables.';\n",
              "        element.innerHTML = '';\n",
              "        dataTable['output_type'] = 'display_data';\n",
              "        await google.colab.output.renderOutput(dataTable, element);\n",
              "        const docLink = document.createElement('div');\n",
              "        docLink.innerHTML = docLinkHtml;\n",
              "        element.appendChild(docLink);\n",
              "      }\n",
              "    </script>\n",
              "  </div>\n",
              "\n",
              "\n",
              "<div id=\"df-17e7f867-3bad-444b-9d05-c5f464cf1c24\">\n",
              "  <button class=\"colab-df-quickchart\" onclick=\"quickchart('df-17e7f867-3bad-444b-9d05-c5f464cf1c24')\"\n",
              "            title=\"Suggest charts\"\n",
              "            style=\"display:none;\">\n",
              "\n",
              "<svg xmlns=\"http://www.w3.org/2000/svg\" height=\"24px\"viewBox=\"0 0 24 24\"\n",
              "     width=\"24px\">\n",
              "    <g>\n",
              "        <path d=\"M19 3H5c-1.1 0-2 .9-2 2v14c0 1.1.9 2 2 2h14c1.1 0 2-.9 2-2V5c0-1.1-.9-2-2-2zM9 17H7v-7h2v7zm4 0h-2V7h2v10zm4 0h-2v-4h2v4z\"/>\n",
              "    </g>\n",
              "</svg>\n",
              "  </button>\n",
              "\n",
              "<style>\n",
              "  .colab-df-quickchart {\n",
              "      --bg-color: #E8F0FE;\n",
              "      --fill-color: #1967D2;\n",
              "      --hover-bg-color: #E2EBFA;\n",
              "      --hover-fill-color: #174EA6;\n",
              "      --disabled-fill-color: #AAA;\n",
              "      --disabled-bg-color: #DDD;\n",
              "  }\n",
              "\n",
              "  [theme=dark] .colab-df-quickchart {\n",
              "      --bg-color: #3B4455;\n",
              "      --fill-color: #D2E3FC;\n",
              "      --hover-bg-color: #434B5C;\n",
              "      --hover-fill-color: #FFFFFF;\n",
              "      --disabled-bg-color: #3B4455;\n",
              "      --disabled-fill-color: #666;\n",
              "  }\n",
              "\n",
              "  .colab-df-quickchart {\n",
              "    background-color: var(--bg-color);\n",
              "    border: none;\n",
              "    border-radius: 50%;\n",
              "    cursor: pointer;\n",
              "    display: none;\n",
              "    fill: var(--fill-color);\n",
              "    height: 32px;\n",
              "    padding: 0;\n",
              "    width: 32px;\n",
              "  }\n",
              "\n",
              "  .colab-df-quickchart:hover {\n",
              "    background-color: var(--hover-bg-color);\n",
              "    box-shadow: 0 1px 2px rgba(60, 64, 67, 0.3), 0 1px 3px 1px rgba(60, 64, 67, 0.15);\n",
              "    fill: var(--button-hover-fill-color);\n",
              "  }\n",
              "\n",
              "  .colab-df-quickchart-complete:disabled,\n",
              "  .colab-df-quickchart-complete:disabled:hover {\n",
              "    background-color: var(--disabled-bg-color);\n",
              "    fill: var(--disabled-fill-color);\n",
              "    box-shadow: none;\n",
              "  }\n",
              "\n",
              "  .colab-df-spinner {\n",
              "    border: 2px solid var(--fill-color);\n",
              "    border-color: transparent;\n",
              "    border-bottom-color: var(--fill-color);\n",
              "    animation:\n",
              "      spin 1s steps(1) infinite;\n",
              "  }\n",
              "\n",
              "  @keyframes spin {\n",
              "    0% {\n",
              "      border-color: transparent;\n",
              "      border-bottom-color: var(--fill-color);\n",
              "      border-left-color: var(--fill-color);\n",
              "    }\n",
              "    20% {\n",
              "      border-color: transparent;\n",
              "      border-left-color: var(--fill-color);\n",
              "      border-top-color: var(--fill-color);\n",
              "    }\n",
              "    30% {\n",
              "      border-color: transparent;\n",
              "      border-left-color: var(--fill-color);\n",
              "      border-top-color: var(--fill-color);\n",
              "      border-right-color: var(--fill-color);\n",
              "    }\n",
              "    40% {\n",
              "      border-color: transparent;\n",
              "      border-right-color: var(--fill-color);\n",
              "      border-top-color: var(--fill-color);\n",
              "    }\n",
              "    60% {\n",
              "      border-color: transparent;\n",
              "      border-right-color: var(--fill-color);\n",
              "    }\n",
              "    80% {\n",
              "      border-color: transparent;\n",
              "      border-right-color: var(--fill-color);\n",
              "      border-bottom-color: var(--fill-color);\n",
              "    }\n",
              "    90% {\n",
              "      border-color: transparent;\n",
              "      border-bottom-color: var(--fill-color);\n",
              "    }\n",
              "  }\n",
              "</style>\n",
              "\n",
              "  <script>\n",
              "    async function quickchart(key) {\n",
              "      const quickchartButtonEl =\n",
              "        document.querySelector('#' + key + ' button');\n",
              "      quickchartButtonEl.disabled = true;  // To prevent multiple clicks.\n",
              "      quickchartButtonEl.classList.add('colab-df-spinner');\n",
              "      try {\n",
              "        const charts = await google.colab.kernel.invokeFunction(\n",
              "            'suggestCharts', [key], {});\n",
              "      } catch (error) {\n",
              "        console.error('Error during call to suggestCharts:', error);\n",
              "      }\n",
              "      quickchartButtonEl.classList.remove('colab-df-spinner');\n",
              "      quickchartButtonEl.classList.add('colab-df-quickchart-complete');\n",
              "    }\n",
              "    (() => {\n",
              "      let quickchartButtonEl =\n",
              "        document.querySelector('#df-17e7f867-3bad-444b-9d05-c5f464cf1c24 button');\n",
              "      quickchartButtonEl.style.display =\n",
              "        google.colab.kernel.accessAllowed ? 'block' : 'none';\n",
              "    })();\n",
              "  </script>\n",
              "</div>\n",
              "\n",
              "  <div id=\"id_90a21cc6-32c9-4e03-a46d-c5a248094cfa\">\n",
              "    <style>\n",
              "      .colab-df-generate {\n",
              "        background-color: #E8F0FE;\n",
              "        border: none;\n",
              "        border-radius: 50%;\n",
              "        cursor: pointer;\n",
              "        display: none;\n",
              "        fill: #1967D2;\n",
              "        height: 32px;\n",
              "        padding: 0 0 0 0;\n",
              "        width: 32px;\n",
              "      }\n",
              "\n",
              "      .colab-df-generate:hover {\n",
              "        background-color: #E2EBFA;\n",
              "        box-shadow: 0px 1px 2px rgba(60, 64, 67, 0.3), 0px 1px 3px 1px rgba(60, 64, 67, 0.15);\n",
              "        fill: #174EA6;\n",
              "      }\n",
              "\n",
              "      [theme=dark] .colab-df-generate {\n",
              "        background-color: #3B4455;\n",
              "        fill: #D2E3FC;\n",
              "      }\n",
              "\n",
              "      [theme=dark] .colab-df-generate:hover {\n",
              "        background-color: #434B5C;\n",
              "        box-shadow: 0px 1px 3px 1px rgba(0, 0, 0, 0.15);\n",
              "        filter: drop-shadow(0px 1px 2px rgba(0, 0, 0, 0.3));\n",
              "        fill: #FFFFFF;\n",
              "      }\n",
              "    </style>\n",
              "    <button class=\"colab-df-generate\" onclick=\"generateWithVariable('df_word_cloud')\"\n",
              "            title=\"Generate code using this dataframe.\"\n",
              "            style=\"display:none;\">\n",
              "\n",
              "  <svg xmlns=\"http://www.w3.org/2000/svg\" height=\"24px\"viewBox=\"0 0 24 24\"\n",
              "       width=\"24px\">\n",
              "    <path d=\"M7,19H8.4L18.45,9,17,7.55,7,17.6ZM5,21V16.75L18.45,3.32a2,2,0,0,1,2.83,0l1.4,1.43a1.91,1.91,0,0,1,.58,1.4,1.91,1.91,0,0,1-.58,1.4L9.25,21ZM18.45,9,17,7.55Zm-12,3A5.31,5.31,0,0,0,4.9,8.1,5.31,5.31,0,0,0,1,6.5,5.31,5.31,0,0,0,4.9,4.9,5.31,5.31,0,0,0,6.5,1,5.31,5.31,0,0,0,8.1,4.9,5.31,5.31,0,0,0,12,6.5,5.46,5.46,0,0,0,6.5,12Z\"/>\n",
              "  </svg>\n",
              "    </button>\n",
              "    <script>\n",
              "      (() => {\n",
              "      const buttonEl =\n",
              "        document.querySelector('#id_90a21cc6-32c9-4e03-a46d-c5a248094cfa button.colab-df-generate');\n",
              "      buttonEl.style.display =\n",
              "        google.colab.kernel.accessAllowed ? 'block' : 'none';\n",
              "\n",
              "      buttonEl.onclick = () => {\n",
              "        google.colab.notebook.generateWithVariable('df_word_cloud');\n",
              "      }\n",
              "      })();\n",
              "    </script>\n",
              "  </div>\n",
              "\n",
              "    </div>\n",
              "  </div>\n"
            ],
            "application/vnd.google.colaboratory.intrinsic+json": {
              "type": "dataframe",
              "variable_name": "df_word_cloud",
              "summary": "{\n  \"name\": \"df_word_cloud\",\n  \"rows\": 100,\n  \"fields\": [\n    {\n      \"column\": \"category\",\n      \"properties\": {\n        \"dtype\": \"category\",\n        \"num_unique_values\": 5,\n        \"samples\": [\n          \"algebra\",\n          \"technology\",\n          \"music\"\n        ],\n        \"semantic_type\": \"\",\n        \"description\": \"\"\n      }\n    },\n    {\n      \"column\": \"word\",\n      \"properties\": {\n        \"dtype\": \"string\",\n        \"num_unique_values\": 98,\n        \"samples\": [\n          \"physics\",\n          \"music\",\n          \"applications\"\n        ],\n        \"semantic_type\": \"\",\n        \"description\": \"\"\n      }\n    }\n  ]\n}"
            }
          },
          "metadata": {},
          "execution_count": 13
        }
      ]
    },
    {
      "cell_type": "markdown",
      "source": [
        "# Get all word embeddings"
      ],
      "metadata": {
        "id": "WmvoS3zEh5E-"
      }
    },
    {
      "cell_type": "code",
      "source": [
        "# %% get the 100 dimension word embedding for all words\n",
        "n_rows = df_word_cloud.shape[0]\n",
        "n_cols = glove_dim\n",
        "X = torch.empty((n_rows, n_cols))\n",
        "for i in range(n_rows):\n",
        "    current_word = df_word_cloud.loc[i, 'word']\n",
        "    X[i, :] = get_embedding_vector(current_word)\n",
        "    print(f\"{i}: {current_word}\")"
      ],
      "metadata": {
        "colab": {
          "base_uri": "https://localhost:8080/"
        },
        "id": "GypqgDb2doYj",
        "outputId": "888115ce-f1be-4693-82b8-b95944f9cb5c"
      },
      "execution_count": 14,
      "outputs": [
        {
          "output_type": "stream",
          "name": "stdout",
          "text": [
            "0: numbers\n",
            "1: number\n",
            "2: though\n",
            "3: instance\n",
            "4: fact\n",
            "5: indicate\n",
            "6: moreover\n",
            "7: comparison\n",
            "8: figures\n",
            "9: although\n",
            "10: indeed\n",
            "11: example\n",
            "12: mean\n",
            "13: proportion\n",
            "14: same\n",
            "15: fewer\n",
            "16: seen\n",
            "17: indicates\n",
            "18: given\n",
            "19: ones\n",
            "20: algebra\n",
            "21: algebras\n",
            "22: geometry\n",
            "23: heyting\n",
            "24: homological\n",
            "25: trigonometry\n",
            "26: boolean\n",
            "27: mathematics\n",
            "28: algebraic\n",
            "29: generalization\n",
            "30: calculus\n",
            "31: associative\n",
            "32: formula_1\n",
            "33: multiplication\n",
            "34: arithmetic\n",
            "35: commutative\n",
            "36: isomorphic\n",
            "37: linear\n",
            "38: equivalently\n",
            "39: quaternion\n",
            "40: music\n",
            "41: musical\n",
            "42: dance\n",
            "43: songs\n",
            "44: pop\n",
            "45: recording\n",
            "46: folk\n",
            "47: jazz\n",
            "48: concert\n",
            "49: musicians\n",
            "50: contemporary\n",
            "51: artists\n",
            "52: soundtrack\n",
            "53: hop\n",
            "54: studio\n",
            "55: song\n",
            "56: tunes\n",
            "57: singing\n",
            "58: band\n",
            "59: performing\n",
            "60: science\n",
            "61: sciences\n",
            "62: physics\n",
            "63: mathematics\n",
            "64: studies\n",
            "65: institute\n",
            "66: biology\n",
            "67: psychology\n",
            "68: research\n",
            "69: scientific\n",
            "70: humanities\n",
            "71: study\n",
            "72: economics\n",
            "73: literature\n",
            "74: sociology\n",
            "75: arts\n",
            "76: chemistry\n",
            "77: astronomy\n",
            "78: journalism\n",
            "79: professor\n",
            "80: technology\n",
            "81: technologies\n",
            "82: tech\n",
            "83: innovation\n",
            "84: computer\n",
            "85: technological\n",
            "86: systems\n",
            "87: computing\n",
            "88: software\n",
            "89: communication\n",
            "90: engineering\n",
            "91: business\n",
            "92: developed\n",
            "93: development\n",
            "94: industry\n",
            "95: applications\n",
            "96: innovations\n",
            "97: developing\n",
            "98: research\n",
            "99: integrated\n"
          ]
        }
      ]
    },
    {
      "cell_type": "code",
      "source": [
        "X.shape"
      ],
      "metadata": {
        "colab": {
          "base_uri": "https://localhost:8080/"
        },
        "id": "SrC4bfNRdoay",
        "outputId": "b241a40d-16a4-4344-f3ff-ca0c2f35e99e"
      },
      "execution_count": 15,
      "outputs": [
        {
          "output_type": "execute_result",
          "data": {
            "text/plain": [
              "torch.Size([100, 100])"
            ]
          },
          "metadata": {},
          "execution_count": 15
        }
      ]
    },
    {
      "cell_type": "markdown",
      "source": [
        "# TSNE Dimensional Reduction"
      ],
      "metadata": {
        "id": "_VfkjJtchwDP"
      }
    },
    {
      "cell_type": "code",
      "source": [
        "# %%\n",
        "tsne = TSNE(n_components=2)\n",
        "X_tsne = tsne.fit_transform(X.cpu().numpy())"
      ],
      "metadata": {
        "id": "jGBylKqxdoe-"
      },
      "execution_count": 16,
      "outputs": []
    },
    {
      "cell_type": "code",
      "source": [
        "# %%\n",
        "df_word_cloud['x'] = X_tsne[:, 0]\n",
        "df_word_cloud['y'] = X_tsne[:, 1]\n",
        "\n",
        "ggplot(data=df_word_cloud.sample(25)) + aes(x = 'x', y='y', label = 'word', color = 'category') + geom_text() + labs(title='GloVe Word Embeddings and Categories')"
      ],
      "metadata": {
        "colab": {
          "base_uri": "https://localhost:8080/",
          "height": 514
        },
        "id": "ThL8DzXodohY",
        "outputId": "a40a7480-5166-480a-d483-c8254527b863"
      },
      "execution_count": 20,
      "outputs": [
        {
          "output_type": "display_data",
          "data": {
            "text/plain": [
              "<Figure size 640x480 with 1 Axes>"
            ],
            "image/png": "[encoded data removed]"
          },
          "metadata": {
            "image/png": {
              "width": 640,
              "height": 480
            }
          }
        },
        {
          "output_type": "execute_result",
          "data": {
            "text/plain": [
              "<Figure Size: (640 x 480)>"
            ]
          },
          "metadata": {},
          "execution_count": 20
        }
      ]
    }
  ]
}