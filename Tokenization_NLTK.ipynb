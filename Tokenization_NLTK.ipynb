{
  "nbformat": 4,
  "nbformat_minor": 0,
  "metadata": {
    "colab": {
      "provenance": [],
      "authorship_tag": "ABX9TyORqgOa0u4LMhBu8fn5Qi2/",
      "include_colab_link": true
    },
    "kernelspec": {
      "name": "python3",
      "display_name": "Python 3"
    },
    "language_info": {
      "name": "python"
    }
  },
  "cells": [
    {
      "cell_type": "markdown",
      "metadata": {
        "id": "view-in-github",
        "colab_type": "text"
      },
      "source": [
        "<a href=\"https://colab.research.google.com/github/sahilfaizal01/NLP-Resources/blob/main/Tokenization_NLTK.ipynb\" target=\"_parent\"><img src=\"https://colab.research.google.com/assets/colab-badge.svg\" alt=\"Open In Colab\"/></a>"
      ]
    },
    {
      "cell_type": "code",
      "execution_count": 27,
      "metadata": {
        "colab": {
          "base_uri": "https://localhost:8080/"
        },
        "id": "ek0nhAtiBSch",
        "outputId": "d60c82e5-f43f-4b0f-b6ee-b83a405eb4dd"
      },
      "outputs": [
        {
          "output_type": "stream",
          "name": "stdout",
          "text": [
            "Requirement already satisfied: nltk in /usr/local/lib/python3.10/dist-packages (3.8.1)\n",
            "Requirement already satisfied: click in /usr/local/lib/python3.10/dist-packages (from nltk) (8.1.7)\n",
            "Requirement already satisfied: joblib in /usr/local/lib/python3.10/dist-packages (from nltk) (1.4.2)\n",
            "Requirement already satisfied: regex>=2021.8.3 in /usr/local/lib/python3.10/dist-packages (from nltk) (2024.5.15)\n",
            "Requirement already satisfied: tqdm in /usr/local/lib/python3.10/dist-packages (from nltk) (4.66.4)\n"
          ]
        }
      ],
      "source": [
        "!pip install nltk"
      ]
    },
    {
      "cell_type": "code",
      "source": [
        "corpus = \"The Apple Watch Ultra 2 offers more exclusive features than any other Apple Watch model. The most notable and useful difference between the Ultra and the other Apple Watch models is the larger, brighter, flatter screen that's covered by a sapphire crystal face and surrounded by a titanium case to considerably increase the amount of wear and tear it can handle. It's also IPX6 dust resistant, works underwater up to 100 meters (328 feet), and has military grade (MIL-STD 810H) certification for ruggedness. Plus, the Ultra 2 can handle high altitudes, shocks, vibrations, and temperatures as low as 4 degrees Fahrenheit and as high as 130 degrees Fahrenheit.\""
      ],
      "metadata": {
        "id": "IDgfeVmsBYRg"
      },
      "execution_count": 28,
      "outputs": []
    },
    {
      "cell_type": "code",
      "source": [
        "print(corpus)"
      ],
      "metadata": {
        "colab": {
          "base_uri": "https://localhost:8080/"
        },
        "id": "-3iSLIdxBYT_",
        "outputId": "0507fa2e-8c32-4684-ca49-e1e8cfcaa8cc"
      },
      "execution_count": 29,
      "outputs": [
        {
          "output_type": "stream",
          "name": "stdout",
          "text": [
            "The Apple Watch Ultra 2 offers more exclusive features than any other Apple Watch model. The most notable and useful difference between the Ultra and the other Apple Watch models is the larger, brighter, flatter screen that's covered by a sapphire crystal face and surrounded by a titanium case to considerably increase the amount of wear and tear it can handle. It's also IPX6 dust resistant, works underwater up to 100 meters (328 feet), and has military grade (MIL-STD 810H) certification for ruggedness. Plus, the Ultra 2 can handle high altitudes, shocks, vibrations, and temperatures as low as 4 degrees Fahrenheit and as high as 130 degrees Fahrenheit.\n"
          ]
        }
      ]
    },
    {
      "cell_type": "code",
      "source": [
        "import nltk\n",
        "nltk.download('punkt')\n",
        "# pre-trained unsupervised machine learning tokenizer.\n",
        "# It's capable of handling a variety of tokenization tasks, such as splitting contractions\n",
        "# (e.g., \"don't\" into [\"do\", \"n't\"]), and splitting on punctuation"
      ],
      "metadata": {
        "colab": {
          "base_uri": "https://localhost:8080/"
        },
        "id": "82AcyZ0iB_pw",
        "outputId": "049332df-ab71-4578-8e84-92a3709fa82a"
      },
      "execution_count": 30,
      "outputs": [
        {
          "output_type": "stream",
          "name": "stderr",
          "text": [
            "[nltk_data] Downloading package punkt to /root/nltk_data...\n",
            "[nltk_data]   Package punkt is already up-to-date!\n"
          ]
        },
        {
          "output_type": "execute_result",
          "data": {
            "text/plain": [
              "True"
            ]
          },
          "metadata": {},
          "execution_count": 30
        }
      ]
    },
    {
      "cell_type": "markdown",
      "source": [
        "# **Sentence Tokenize**"
      ],
      "metadata": {
        "id": "mQNmbx2VE8sJ"
      }
    },
    {
      "cell_type": "code",
      "source": [
        "##  Tokenization\n",
        "## Paragraphs --> Sentences\n",
        "from nltk.tokenize import sent_tokenize"
      ],
      "metadata": {
        "id": "Got_jOavBYXp"
      },
      "execution_count": 31,
      "outputs": []
    },
    {
      "cell_type": "code",
      "source": [
        "documents=sent_tokenize(corpus)"
      ],
      "metadata": {
        "id": "ALSduoUKBYbB"
      },
      "execution_count": 32,
      "outputs": []
    },
    {
      "cell_type": "code",
      "source": [
        "type(documents)"
      ],
      "metadata": {
        "colab": {
          "base_uri": "https://localhost:8080/"
        },
        "id": "wWI7XLq9BYdL",
        "outputId": "8a08d03d-7273-4aab-b6ba-346ff8c637bb"
      },
      "execution_count": 33,
      "outputs": [
        {
          "output_type": "execute_result",
          "data": {
            "text/plain": [
              "list"
            ]
          },
          "metadata": {},
          "execution_count": 33
        }
      ]
    },
    {
      "cell_type": "code",
      "source": [
        "for sentence in documents:\n",
        "  print(sentence)"
      ],
      "metadata": {
        "colab": {
          "base_uri": "https://localhost:8080/"
        },
        "id": "PH2MgkU8BYgv",
        "outputId": "93312981-e134-4155-da65-5e91da79bf39"
      },
      "execution_count": 34,
      "outputs": [
        {
          "output_type": "stream",
          "name": "stdout",
          "text": [
            "The Apple Watch Ultra 2 offers more exclusive features than any other Apple Watch model.\n",
            "The most notable and useful difference between the Ultra and the other Apple Watch models is the larger, brighter, flatter screen that's covered by a sapphire crystal face and surrounded by a titanium case to considerably increase the amount of wear and tear it can handle.\n",
            "It's also IPX6 dust resistant, works underwater up to 100 meters (328 feet), and has military grade (MIL-STD 810H) certification for ruggedness.\n",
            "Plus, the Ultra 2 can handle high altitudes, shocks, vibrations, and temperatures as low as 4 degrees Fahrenheit and as high as 130 degrees Fahrenheit.\n"
          ]
        }
      ]
    },
    {
      "cell_type": "markdown",
      "source": [
        "# **Word Tokenize**"
      ],
      "metadata": {
        "id": "sJKK77rfFATi"
      }
    },
    {
      "cell_type": "code",
      "source": [
        "## Tokenization\n",
        "## Paragraph --> words\n",
        "## sentence ---> words\n",
        "from nltk.tokenize import word_tokenize"
      ],
      "metadata": {
        "id": "LY_Rd5PeBYjc"
      },
      "execution_count": 35,
      "outputs": []
    },
    {
      "cell_type": "code",
      "source": [
        "para_tokens = word_tokenize(corpus)\n",
        "len(para_tokens)"
      ],
      "metadata": {
        "colab": {
          "base_uri": "https://localhost:8080/"
        },
        "id": "Mt16tfnEBYl9",
        "outputId": "169bf9b0-3c03-4f91-95c8-21efdc1eef07"
      },
      "execution_count": 36,
      "outputs": [
        {
          "output_type": "execute_result",
          "data": {
            "text/plain": [
              "126"
            ]
          },
          "metadata": {},
          "execution_count": 36
        }
      ]
    },
    {
      "cell_type": "code",
      "source": [
        "sentence_tokens = []\n",
        "for sentence in documents:\n",
        "  print(word_tokenize(sentence))\n",
        "  sentence_tokens.append(word_tokenize(sentence))"
      ],
      "metadata": {
        "colab": {
          "base_uri": "https://localhost:8080/"
        },
        "id": "fORYENV6BYoS",
        "outputId": "d3b6724c-014e-4239-f9da-852dbd57a0a8"
      },
      "execution_count": 37,
      "outputs": [
        {
          "output_type": "stream",
          "name": "stdout",
          "text": [
            "['The', 'Apple', 'Watch', 'Ultra', '2', 'offers', 'more', 'exclusive', 'features', 'than', 'any', 'other', 'Apple', 'Watch', 'model', '.']\n",
            "['The', 'most', 'notable', 'and', 'useful', 'difference', 'between', 'the', 'Ultra', 'and', 'the', 'other', 'Apple', 'Watch', 'models', 'is', 'the', 'larger', ',', 'brighter', ',', 'flatter', 'screen', 'that', \"'s\", 'covered', 'by', 'a', 'sapphire', 'crystal', 'face', 'and', 'surrounded', 'by', 'a', 'titanium', 'case', 'to', 'considerably', 'increase', 'the', 'amount', 'of', 'wear', 'and', 'tear', 'it', 'can', 'handle', '.']\n",
            "['It', \"'s\", 'also', 'IPX6', 'dust', 'resistant', ',', 'works', 'underwater', 'up', 'to', '100', 'meters', '(', '328', 'feet', ')', ',', 'and', 'has', 'military', 'grade', '(', 'MIL-STD', '810H', ')', 'certification', 'for', 'ruggedness', '.']\n",
            "['Plus', ',', 'the', 'Ultra', '2', 'can', 'handle', 'high', 'altitudes', ',', 'shocks', ',', 'vibrations', ',', 'and', 'temperatures', 'as', 'low', 'as', '4', 'degrees', 'Fahrenheit', 'and', 'as', 'high', 'as', '130', 'degrees', 'Fahrenheit', '.']\n"
          ]
        }
      ]
    },
    {
      "cell_type": "code",
      "source": [
        "cnt = 0\n",
        "for i in sentence_tokens:\n",
        "  cnt += len(i)\n",
        "print(cnt)"
      ],
      "metadata": {
        "colab": {
          "base_uri": "https://localhost:8080/"
        },
        "id": "vGFGDOSrC0TL",
        "outputId": "cef6704b-9e63-4200-e8fd-6d51620746df"
      },
      "execution_count": 38,
      "outputs": [
        {
          "output_type": "stream",
          "name": "stdout",
          "text": [
            "126\n"
          ]
        }
      ]
    },
    {
      "cell_type": "markdown",
      "source": [
        "# **Word Punct Tokenize**"
      ],
      "metadata": {
        "id": "MwOmebdjFF2m"
      }
    },
    {
      "cell_type": "markdown",
      "source": [
        "word_tokenize: Handles punctuation more intelligently, often keeping punctuation with words if appropriate (e.g., \"Let's\" becomes [\"Let\", \"'s\"]).\n",
        "WordPunctTokenizer: Separates all punctuation from words (e.g., \"Let's\" becomes [\"Let\", \"'\", \"s\"])."
      ],
      "metadata": {
        "id": "4TIdjw96EX7G"
      }
    },
    {
      "cell_type": "markdown",
      "source": [
        "word_tokenize: More suitable for general text processing tasks where the handling of punctuation and contractions in a natural way is important.\n",
        "\n",
        "WordPunctTokenizer: Better suited for tasks where the separation of punctuation is essential.\n"
      ],
      "metadata": {
        "id": "zNMtfaw_EjIz"
      }
    },
    {
      "cell_type": "code",
      "source": [
        "from nltk.tokenize import wordpunct_tokenize\n",
        "# uses regex to split text\n",
        "paraTokens = wordpunct_tokenize(corpus)\n",
        "len(paraTokens)"
      ],
      "metadata": {
        "colab": {
          "base_uri": "https://localhost:8080/"
        },
        "id": "ej5PM5ZGBYqH",
        "outputId": "de2c2f0e-59a6-4c89-ec4a-6031edf9de80"
      },
      "execution_count": 39,
      "outputs": [
        {
          "output_type": "execute_result",
          "data": {
            "text/plain": [
              "129"
            ]
          },
          "metadata": {},
          "execution_count": 39
        }
      ]
    },
    {
      "cell_type": "markdown",
      "source": [
        "# **Treebank Word Tokenizer**"
      ],
      "metadata": {
        "id": "TXWT-D6PFJzs"
      }
    },
    {
      "cell_type": "code",
      "source": [
        "from nltk.tokenize import TreebankWordTokenizer\n",
        "# doesn't split '.' except the last"
      ],
      "metadata": {
        "id": "l3URph_1BYsS"
      },
      "execution_count": 40,
      "outputs": []
    },
    {
      "cell_type": "code",
      "source": [
        "tokenizer=TreebankWordTokenizer()"
      ],
      "metadata": {
        "id": "0EmJCNtwBYuS"
      },
      "execution_count": 41,
      "outputs": []
    },
    {
      "cell_type": "code",
      "source": [
        "paratreeTokens = tokenizer.tokenize(corpus)\n",
        "len(paratreeTokens)"
      ],
      "metadata": {
        "colab": {
          "base_uri": "https://localhost:8080/"
        },
        "id": "pXVMtCyDBYwp",
        "outputId": "900d03fc-bf7b-42e8-f777-f27b761ed977"
      },
      "execution_count": 42,
      "outputs": [
        {
          "output_type": "execute_result",
          "data": {
            "text/plain": [
              "123"
            ]
          },
          "metadata": {},
          "execution_count": 42
        }
      ]
    }
  ]
}