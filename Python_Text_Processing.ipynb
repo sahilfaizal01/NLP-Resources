{
  "nbformat": 4,
  "nbformat_minor": 0,
  "metadata": {
    "colab": {
      "provenance": [],
      "authorship_tag": "ABX9TyMUIkwUaVII/9dxxkCgJWZ0",
      "include_colab_link": true
    },
    "kernelspec": {
      "name": "python3",
      "display_name": "Python 3"
    },
    "language_info": {
      "name": "python"
    }
  },
  "cells": [
    {
      "cell_type": "markdown",
      "metadata": {
        "id": "view-in-github",
        "colab_type": "text"
      },
      "source": [
        "<a href=\"https://colab.research.google.com/github/sahilfaizal01/NLP-Resources/blob/main/Python_Text_Processing.ipynb\" target=\"_parent\"><img src=\"https://colab.research.google.com/assets/colab-badge.svg\" alt=\"Open In Colab\"/></a>"
      ]
    },
    {
      "cell_type": "markdown",
      "source": [
        "# **Date-Time Object**"
      ],
      "metadata": {
        "id": "-3B6mGjz3CxD"
      }
    },
    {
      "cell_type": "code",
      "execution_count": 1,
      "metadata": {
        "id": "e8fY2YCz1sdi"
      },
      "outputs": [],
      "source": [
        "from datetime import datetime"
      ]
    },
    {
      "cell_type": "code",
      "source": [
        "today = datetime(year=2024,month=8,day=14)"
      ],
      "metadata": {
        "id": "8HtQMsa92Xst"
      },
      "execution_count": 2,
      "outputs": []
    },
    {
      "cell_type": "code",
      "source": [
        "today.year"
      ],
      "metadata": {
        "colab": {
          "base_uri": "https://localhost:8080/"
        },
        "id": "pw9DBwwJ2XvC",
        "outputId": "1fa599ba-f6e8-4dd8-e262-1a1f6778a6f0"
      },
      "execution_count": 3,
      "outputs": [
        {
          "output_type": "execute_result",
          "data": {
            "text/plain": [
              "2024"
            ]
          },
          "metadata": {},
          "execution_count": 3
        }
      ]
    },
    {
      "cell_type": "code",
      "source": [
        "print(f\"{today:%B %d, %Y}\")"
      ],
      "metadata": {
        "colab": {
          "base_uri": "https://localhost:8080/"
        },
        "id": "ipabbhB02XyN",
        "outputId": "8292bee0-f421-46db-9a06-676c2622b741"
      },
      "execution_count": 4,
      "outputs": [
        {
          "output_type": "stream",
          "name": "stdout",
          "text": [
            "August 14, 2024\n"
          ]
        }
      ]
    },
    {
      "cell_type": "markdown",
      "source": [
        "# **Formatted String Literals (F-Strings)**"
      ],
      "metadata": {
        "id": "-jMaP-TT29w3"
      }
    },
    {
      "cell_type": "code",
      "source": [
        "person = \"Sahil\""
      ],
      "metadata": {
        "id": "XXO3Z5Jh2X1j"
      },
      "execution_count": 5,
      "outputs": []
    },
    {
      "cell_type": "code",
      "source": [
        "print(f\"My name is {person}\")"
      ],
      "metadata": {
        "colab": {
          "base_uri": "https://localhost:8080/"
        },
        "id": "RXSMiN352X5M",
        "outputId": "d7f2bcfc-764f-4131-e896-4dd21aacefdf"
      },
      "execution_count": 6,
      "outputs": [
        {
          "output_type": "stream",
          "name": "stdout",
          "text": [
            "My name is Sahil\n"
          ]
        }
      ]
    },
    {
      "cell_type": "code",
      "source": [
        "lst = [0,1,2,3,4]"
      ],
      "metadata": {
        "id": "B3tVCeG12X-f"
      },
      "execution_count": 7,
      "outputs": []
    },
    {
      "cell_type": "code",
      "source": [
        "print(f\"The last element is {lst[-1]}\")"
      ],
      "metadata": {
        "colab": {
          "base_uri": "https://localhost:8080/"
        },
        "id": "i9N3q6fV2YB0",
        "outputId": "72b3b98a-23af-412b-f0d7-45d6665b4170"
      },
      "execution_count": 8,
      "outputs": [
        {
          "output_type": "stream",
          "name": "stdout",
          "text": [
            "The last element is 4\n"
          ]
        }
      ]
    },
    {
      "cell_type": "code",
      "source": [
        "d = {'a':123,'b':456}\n",
        "\n",
        "print(f\"Address: {d['a']} Main Street\")"
      ],
      "metadata": {
        "colab": {
          "base_uri": "https://localhost:8080/"
        },
        "id": "uVp-DtN12YEN",
        "outputId": "b15faa1d-6223-44fc-d19f-fa2a7c2e5317"
      },
      "execution_count": 9,
      "outputs": [
        {
          "output_type": "stream",
          "name": "stdout",
          "text": [
            "Address: 123 Main Street\n"
          ]
        }
      ]
    },
    {
      "cell_type": "markdown",
      "source": [
        "# Minimum Widths, Alignment and Padding"
      ],
      "metadata": {
        "id": "qR7fi4A53YJY"
      }
    },
    {
      "cell_type": "code",
      "source": [
        "library = [('Author', 'Topic', 'Pages'), ('Twain', 'Rafting', 601), ('Feynman', 'Physics', 95), ('Hamilton', 'Mythology', 144)]\n",
        "\n",
        "for book in library:\n",
        "  print(f'{book[0]:{10}} {book[1]:{8}} {book[2]:{7}}')"
      ],
      "metadata": {
        "colab": {
          "base_uri": "https://localhost:8080/"
        },
        "id": "6HcpQRGi2YGS",
        "outputId": "cf8d1fbc-303a-4cf1-cb5b-63cfc7fac0b1"
      },
      "execution_count": 10,
      "outputs": [
        {
          "output_type": "stream",
          "name": "stdout",
          "text": [
            "Author     Topic    Pages  \n",
            "Twain      Rafting      601\n",
            "Feynman    Physics       95\n",
            "Hamilton   Mythology     144\n"
          ]
        }
      ]
    },
    {
      "cell_type": "code",
      "source": [
        "for book in library:\n",
        "  print(f'{book[0]:{10}} {book[1]:{10}} {book[2]:.>{7}}') #automatic alignment"
      ],
      "metadata": {
        "colab": {
          "base_uri": "https://localhost:8080/"
        },
        "id": "PGms1gIv2YLr",
        "outputId": "fbf404dd-f15a-44e8-8582-ad03059c6cbf"
      },
      "execution_count": 11,
      "outputs": [
        {
          "output_type": "stream",
          "name": "stdout",
          "text": [
            "Author     Topic      ..Pages\n",
            "Twain      Rafting    ....601\n",
            "Feynman    Physics    .....95\n",
            "Hamilton   Mythology  ....144\n"
          ]
        }
      ]
    },
    {
      "cell_type": "code",
      "source": [
        "for author, topic, page in library:\n",
        "  print(f'{author:{10}} {topic:{10}} {page:.>{10}}')"
      ],
      "metadata": {
        "colab": {
          "base_uri": "https://localhost:8080/"
        },
        "id": "N688Mfgi2YNw",
        "outputId": "aed42f16-5923-4288-a447-85a2db1db5c5"
      },
      "execution_count": 12,
      "outputs": [
        {
          "output_type": "stream",
          "name": "stdout",
          "text": [
            "Author     Topic      .....Pages\n",
            "Twain      Rafting    .......601\n",
            "Feynman    Physics    ........95\n",
            "Hamilton   Mythology  .......144\n"
          ]
        }
      ]
    },
    {
      "cell_type": "markdown",
      "source": [
        "# **FILE HANDLING**"
      ],
      "metadata": {
        "id": "bRGPKnRj8ODQ"
      }
    },
    {
      "cell_type": "code",
      "source": [
        "%%writefile test.txt\n",
        "Hello, this is a quick test file\n",
        "This is the second line of the file"
      ],
      "metadata": {
        "colab": {
          "base_uri": "https://localhost:8080/"
        },
        "id": "v93zNLps8OKa",
        "outputId": "6cb37999-8b59-4f2a-f275-d9b6664a8071"
      },
      "execution_count": 13,
      "outputs": [
        {
          "output_type": "stream",
          "name": "stdout",
          "text": [
            "Writing test.txt\n"
          ]
        }
      ]
    },
    {
      "cell_type": "code",
      "source": [
        "myfile = open(\"/content/test.txt\")"
      ],
      "metadata": {
        "id": "Y1VEd0iu8Zd-"
      },
      "execution_count": 14,
      "outputs": []
    },
    {
      "cell_type": "code",
      "source": [
        "myfile"
      ],
      "metadata": {
        "colab": {
          "base_uri": "https://localhost:8080/"
        },
        "id": "pPYrqTUa-ef4",
        "outputId": "5f0fd6e3-3588-4997-c697-db08f01614cc"
      },
      "execution_count": 15,
      "outputs": [
        {
          "output_type": "execute_result",
          "data": {
            "text/plain": [
              "<_io.TextIOWrapper name='/content/test.txt' mode='r' encoding='UTF-8'>"
            ]
          },
          "metadata": {},
          "execution_count": 15
        }
      ]
    },
    {
      "cell_type": "markdown",
      "source": [
        "# Read file"
      ],
      "metadata": {
        "id": "su29KxIRDGWq"
      }
    },
    {
      "cell_type": "code",
      "source": [
        "myfile.read()"
      ],
      "metadata": {
        "colab": {
          "base_uri": "https://localhost:8080/",
          "height": 35
        },
        "id": "qEaMonGm-fWw",
        "outputId": "dba9af43-d8a3-454f-e9d6-e70e96d5547b"
      },
      "execution_count": 16,
      "outputs": [
        {
          "output_type": "execute_result",
          "data": {
            "text/plain": [
              "'Hello, this is a quick test file\\nThis is the second line of the file\\n'"
            ],
            "application/vnd.google.colaboratory.intrinsic+json": {
              "type": "string"
            }
          },
          "metadata": {},
          "execution_count": 16
        }
      ]
    },
    {
      "cell_type": "code",
      "source": [
        "myfile.read()"
      ],
      "metadata": {
        "colab": {
          "base_uri": "https://localhost:8080/",
          "height": 35
        },
        "id": "iqi9lm3f-fmI",
        "outputId": "390f30f3-c910-4439-b1df-312e15d7d372"
      },
      "execution_count": 17,
      "outputs": [
        {
          "output_type": "execute_result",
          "data": {
            "text/plain": [
              "''"
            ],
            "application/vnd.google.colaboratory.intrinsic+json": {
              "type": "string"
            }
          },
          "metadata": {},
          "execution_count": 17
        }
      ]
    },
    {
      "cell_type": "code",
      "source": [
        "myfile.seek(0) #change the cursor to index 0"
      ],
      "metadata": {
        "colab": {
          "base_uri": "https://localhost:8080/"
        },
        "id": "jymeNWzo-fst",
        "outputId": "a892881d-a508-4f77-8fd3-c11d9f9e5d88"
      },
      "execution_count": 18,
      "outputs": [
        {
          "output_type": "execute_result",
          "data": {
            "text/plain": [
              "0"
            ]
          },
          "metadata": {},
          "execution_count": 18
        }
      ]
    },
    {
      "cell_type": "code",
      "source": [
        "myfile.read()"
      ],
      "metadata": {
        "colab": {
          "base_uri": "https://localhost:8080/",
          "height": 35
        },
        "id": "9GcBmqGm-fvO",
        "outputId": "727ad2b0-2252-4587-c9fb-a23c2241320c"
      },
      "execution_count": 19,
      "outputs": [
        {
          "output_type": "execute_result",
          "data": {
            "text/plain": [
              "'Hello, this is a quick test file\\nThis is the second line of the file\\n'"
            ],
            "application/vnd.google.colaboratory.intrinsic+json": {
              "type": "string"
            }
          },
          "metadata": {},
          "execution_count": 19
        }
      ]
    },
    {
      "cell_type": "code",
      "source": [
        "myfile.seek(0)"
      ],
      "metadata": {
        "colab": {
          "base_uri": "https://localhost:8080/"
        },
        "id": "z1fErHkh-fxl",
        "outputId": "ea95f6f5-09ff-42d1-c4ab-89a0fc2962f1"
      },
      "execution_count": 20,
      "outputs": [
        {
          "output_type": "execute_result",
          "data": {
            "text/plain": [
              "0"
            ]
          },
          "metadata": {},
          "execution_count": 20
        }
      ]
    },
    {
      "cell_type": "code",
      "source": [
        "content = myfile.read()\n",
        "content"
      ],
      "metadata": {
        "colab": {
          "base_uri": "https://localhost:8080/",
          "height": 35
        },
        "id": "SGMUpJvDA8Yh",
        "outputId": "f124b8e0-395b-4b1b-84a7-33ca9d1ce537"
      },
      "execution_count": 21,
      "outputs": [
        {
          "output_type": "execute_result",
          "data": {
            "text/plain": [
              "'Hello, this is a quick test file\\nThis is the second line of the file\\n'"
            ],
            "application/vnd.google.colaboratory.intrinsic+json": {
              "type": "string"
            }
          },
          "metadata": {},
          "execution_count": 21
        }
      ]
    },
    {
      "cell_type": "code",
      "source": [
        "myfile.close()"
      ],
      "metadata": {
        "id": "fUIktnMlA8az"
      },
      "execution_count": 22,
      "outputs": []
    },
    {
      "cell_type": "code",
      "source": [
        "myfile = open('/content/test.txt')"
      ],
      "metadata": {
        "id": "ZM03xua_BdD7"
      },
      "execution_count": 23,
      "outputs": []
    },
    {
      "cell_type": "code",
      "source": [
        "contents = myfile.readlines()\n",
        "contents"
      ],
      "metadata": {
        "colab": {
          "base_uri": "https://localhost:8080/"
        },
        "id": "SVMCphnpBdGM",
        "outputId": "78d4ea34-378e-4b85-8bad-37332ecc07c7"
      },
      "execution_count": 24,
      "outputs": [
        {
          "output_type": "execute_result",
          "data": {
            "text/plain": [
              "['Hello, this is a quick test file\\n', 'This is the second line of the file\\n']"
            ]
          },
          "metadata": {},
          "execution_count": 24
        }
      ]
    },
    {
      "cell_type": "markdown",
      "source": [
        "# Write to file"
      ],
      "metadata": {
        "id": "HkxKytAeCmSl"
      }
    },
    {
      "cell_type": "code",
      "source": [
        "# w+ mode will overwrite existing contents of the file\n",
        "# w - write\n",
        "# r - read\n",
        "# w+ - read and write"
      ],
      "metadata": {
        "id": "wErfM3ACBdIA"
      },
      "execution_count": 25,
      "outputs": []
    },
    {
      "cell_type": "code",
      "source": [
        "myfile = open('/content/test.txt','w+')"
      ],
      "metadata": {
        "id": "9hkxY2HbBdKG"
      },
      "execution_count": 26,
      "outputs": []
    },
    {
      "cell_type": "code",
      "source": [
        "myfile.read()"
      ],
      "metadata": {
        "colab": {
          "base_uri": "https://localhost:8080/",
          "height": 35
        },
        "id": "M0aZuhXRBdP2",
        "outputId": "37173058-956b-473b-a132-72b3c03fa627"
      },
      "execution_count": 27,
      "outputs": [
        {
          "output_type": "execute_result",
          "data": {
            "text/plain": [
              "''"
            ],
            "application/vnd.google.colaboratory.intrinsic+json": {
              "type": "string"
            }
          },
          "metadata": {},
          "execution_count": 27
        }
      ]
    },
    {
      "cell_type": "code",
      "source": [
        "myfile.write(\"Hellow this is a demo world\")"
      ],
      "metadata": {
        "colab": {
          "base_uri": "https://localhost:8080/"
        },
        "id": "-OAZUl4gA8c_",
        "outputId": "94c8f760-ed49-40f5-ce68-458ca7d27b85"
      },
      "execution_count": 28,
      "outputs": [
        {
          "output_type": "execute_result",
          "data": {
            "text/plain": [
              "27"
            ]
          },
          "metadata": {},
          "execution_count": 28
        }
      ]
    },
    {
      "cell_type": "code",
      "source": [
        "myfile.seek(0)"
      ],
      "metadata": {
        "colab": {
          "base_uri": "https://localhost:8080/"
        },
        "id": "WEY22NbTCsWj",
        "outputId": "bb5252b2-35b4-49f1-8655-74a9952d626f"
      },
      "execution_count": 29,
      "outputs": [
        {
          "output_type": "execute_result",
          "data": {
            "text/plain": [
              "0"
            ]
          },
          "metadata": {},
          "execution_count": 29
        }
      ]
    },
    {
      "cell_type": "code",
      "source": [
        "myfile.read()"
      ],
      "metadata": {
        "colab": {
          "base_uri": "https://localhost:8080/",
          "height": 35
        },
        "id": "uZDoMzdZCxMe",
        "outputId": "7887d5b7-febe-4050-85a5-ec4fec5ee60a"
      },
      "execution_count": 30,
      "outputs": [
        {
          "output_type": "execute_result",
          "data": {
            "text/plain": [
              "'Hellow this is a demo world'"
            ],
            "application/vnd.google.colaboratory.intrinsic+json": {
              "type": "string"
            }
          },
          "metadata": {},
          "execution_count": 30
        }
      ]
    },
    {
      "cell_type": "code",
      "source": [
        "myfile.close()"
      ],
      "metadata": {
        "id": "rQGImKeBCxPV"
      },
      "execution_count": 31,
      "outputs": []
    },
    {
      "cell_type": "markdown",
      "source": [
        "# Append to the file"
      ],
      "metadata": {
        "id": "FSyvVgvYDIYr"
      }
    },
    {
      "cell_type": "code",
      "source": [
        "# without overwriting\n",
        "# create new file if its doesn't exist"
      ],
      "metadata": {
        "id": "DOu76ERsDIgZ"
      },
      "execution_count": 32,
      "outputs": []
    },
    {
      "cell_type": "code",
      "source": [
        "myfile = open('/content/test.txt','a+')"
      ],
      "metadata": {
        "id": "zDDqQx7UDIiI"
      },
      "execution_count": 33,
      "outputs": []
    },
    {
      "cell_type": "code",
      "source": [
        "myfile.write(\"Hello world this is new\")"
      ],
      "metadata": {
        "colab": {
          "base_uri": "https://localhost:8080/"
        },
        "id": "Z4usGpRLDIjd",
        "outputId": "f1de96a2-46c5-417e-c252-b1a34ba213e7"
      },
      "execution_count": 34,
      "outputs": [
        {
          "output_type": "execute_result",
          "data": {
            "text/plain": [
              "23"
            ]
          },
          "metadata": {},
          "execution_count": 34
        }
      ]
    },
    {
      "cell_type": "code",
      "source": [
        "myfile.close()"
      ],
      "metadata": {
        "id": "JvsAd9QMD4l5"
      },
      "execution_count": 35,
      "outputs": []
    },
    {
      "cell_type": "code",
      "source": [
        "newfile = open(\"/content/test.txt\")\n",
        "newfile.read()"
      ],
      "metadata": {
        "colab": {
          "base_uri": "https://localhost:8080/",
          "height": 35
        },
        "id": "fjY7a1_ID6ip",
        "outputId": "943f3984-e01f-4253-bedd-88ad9124fa2e"
      },
      "execution_count": 36,
      "outputs": [
        {
          "output_type": "execute_result",
          "data": {
            "text/plain": [
              "'Hellow this is a demo worldHello world this is new'"
            ],
            "application/vnd.google.colaboratory.intrinsic+json": {
              "type": "string"
            }
          },
          "metadata": {},
          "execution_count": 36
        }
      ]
    },
    {
      "cell_type": "markdown",
      "source": [
        "# w-mode"
      ],
      "metadata": {
        "id": "fhZ2LVHl_Yim"
      }
    },
    {
      "cell_type": "code",
      "source": [
        "nfile = open(\"/content/test.txt\",'w') # content got overwritten\n",
        "nfile.write(\"\\nThis is new file\")\n",
        "nfile.close()"
      ],
      "metadata": {
        "id": "5iPBLnVj--fZ"
      },
      "execution_count": 37,
      "outputs": []
    },
    {
      "cell_type": "code",
      "source": [
        "nfile = open('/content/test.txt','r')\n",
        "print(nfile.read())"
      ],
      "metadata": {
        "colab": {
          "base_uri": "https://localhost:8080/"
        },
        "id": "LErz_j-D_Hzo",
        "outputId": "8f3ad778-f86f-4c36-d4b1-3901ed96013c"
      },
      "execution_count": 38,
      "outputs": [
        {
          "output_type": "stream",
          "name": "stdout",
          "text": [
            "\n",
            "This is new file\n"
          ]
        }
      ]
    }
  ]
}